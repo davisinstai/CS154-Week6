{
 "cells": [
  {
   "cell_type": "markdown",
   "id": "b1488c85",
   "metadata": {
    "editable": true,
    "slideshow": {
     "slide_type": "slide"
    },
    "tags": []
   },
   "source": [
    "# The Key Terms for Friday\n",
    "\n",
    "* `return`\n"
   ]
  },
  {
   "cell_type": "markdown",
   "id": "eac39fb4",
   "metadata": {},
   "source": [
    "# Function Return Values\n",
    "\n",
    "A python function will always **return** a value when called. \n",
    "\n",
    "* If we don't say what to return in the function definition, the function will return the special value `None`.\n",
    "* If we want to return something other than `None`, we say what to return using `return`. A function can have any number of `return` statements inside flow control statements."
   ]
  },
  {
   "cell_type": "markdown",
   "id": "71e9b59c",
   "metadata": {},
   "source": [
    "Let's write a function for telling fortunes. We can call it `fortune_picker`; it takes a single argument (`fortune_number`) between 1 and 6, and it returns a corresponding fortune. \n",
    "\n",
    "In the code cell below, modify the function to handle the case where the user inputs anything other than a number between 1 and 6."
   ]
  },
  {
   "cell_type": "code",
   "execution_count": 4,
   "id": "99938a83",
   "metadata": {},
   "outputs": [],
   "source": [
    "def fortune_picker(fortune_number): \n",
    "    \"\"\"Returns a fortune corresponding to fortune_number\n",
    "\n",
    "    :param fortune_number: a number between 1 and 6\n",
    "    :type fortune_number: int\n",
    "    :returns: a fortune\n",
    "    :rtype: string\n",
    "    \"\"\" \n",
    "    if fortune_number == 1:\n",
    "        return 'You will have six children.'\n",
    "    elif fortune_number == 2:\n",
    "        return 'You will become very wise.'\n",
    "    elif  fortune_number == 3:\n",
    "        return 'A new friend will help you find yourself.'\n",
    "    elif fortune_number == 4:\n",
    "        return 'A great fortune is coming to you.'\n",
    "    elif fortune_number == 5:\n",
    "        return 'That promising venture... it is a trap.'\n",
    "    elif fortune_number == 6: \n",
    "        return 'Sort yourself out then find love.'"
   ]
  },
  {
   "cell_type": "markdown",
   "id": "55261060",
   "metadata": {},
   "source": [
    "Now call `fortune_picker`."
   ]
  },
  {
   "cell_type": "code",
   "execution_count": 5,
   "id": "031c8284",
   "metadata": {},
   "outputs": [
    {
     "data": {
      "text/plain": [
       "'You will have six children.'"
      ]
     },
     "execution_count": 5,
     "metadata": {},
     "output_type": "execute_result"
    }
   ],
   "source": [
    "fortune_picker(1)"
   ]
  },
  {
   "cell_type": "markdown",
   "id": "70ec019c",
   "metadata": {},
   "source": [
    "If you want to *keep* the value returned from a function, you must assign it as the value of a variable. In the code cell below, assign the variable `my_fortune` to the value returned from `fortune_picker`."
   ]
  },
  {
   "cell_type": "code",
   "execution_count": null,
   "id": "135accf1",
   "metadata": {},
   "outputs": [],
   "source": []
  },
  {
   "cell_type": "markdown",
   "id": "e31dc429",
   "metadata": {},
   "source": [
    "Some python functions also have **side effects**; for example, a python function may print something out. Printing something out is not the same as returning a value, though, because you can't assign the side effect as the value of a variable."
   ]
  },
  {
   "cell_type": "markdown",
   "id": "b587a4d8",
   "metadata": {},
   "source": [
    "# Coding Challenge!\n",
    "\n",
    "Write a function `occupation` that takes one argument (a dictionary of name, occupation pairs), asks the user for a name, and then prints the corresponding occupation. Make sure to handle the case where the name is not in the dictionary (either using `try` and `except`, or using the dictionary method `get()`)."
   ]
  },
  {
   "cell_type": "code",
   "execution_count": null,
   "id": "ff215008",
   "metadata": {},
   "outputs": [],
   "source": []
  },
  {
   "cell_type": "markdown",
   "id": "0675e469",
   "metadata": {},
   "source": [
    "Now call `occupation` and assign the variable `got_occupation` to its return value. What is the value of `got_occupation`?\n",
    "\n",
    "Notice that you can't assign a variable to the printed out occupation."
   ]
  },
  {
   "cell_type": "code",
   "execution_count": null,
   "id": "af0a9f37",
   "metadata": {},
   "outputs": [],
   "source": []
  },
  {
   "cell_type": "markdown",
   "id": "a05370b1",
   "metadata": {},
   "source": [
    "Copy the definition of `occupation` into the code cell below and modify it so it returns the occupation corresponding to the user-provided name. "
   ]
  },
  {
   "cell_type": "code",
   "execution_count": null,
   "id": "ba2cad94",
   "metadata": {},
   "outputs": [],
   "source": []
  },
  {
   "cell_type": "markdown",
   "id": "2bde0168",
   "metadata": {},
   "source": [
    "Now call it and assign the variable `got_occupation` to its return value. Now what is the value of `got_occupation`?"
   ]
  },
  {
   "cell_type": "code",
   "execution_count": null,
   "id": "9db68550",
   "metadata": {},
   "outputs": [],
   "source": []
  },
  {
   "cell_type": "markdown",
   "id": "e09d8c13",
   "metadata": {},
   "source": [
    "# Local and Global Scope\n",
    "\n",
    "\n",
    "We have seen that functions make maintaining code easier by avoiding duplication. One of the most dangerous areas for duplication is variable names. As a program becomes larger, the possibility that a variable name will be reused goes up. This can cause weird errors in our programs that are hard to track down.\n",
    "\n",
    "However, if a variable name is reused in two function definitions, that does *not* count as code duplication. This is because the variable only exists locally in the context of each separate function definition. You can think of each function as defining a separate world, and each variable name used in a function definition has a separate existence in that function's world. This is a concept called **local scope**."
   ]
  },
  {
   "cell_type": "markdown",
   "id": "cd950e7b",
   "metadata": {},
   "source": [
    "On the other hand, we can also create global variables that are defined outside any function definition (and therefore have **global scope**).\n",
    "\n",
    "* In the global scope, python only knows about variables defined in the global scope, and not about any variables defined in a function.\n",
    "* In the local scope of a function, python knows about any variables defined: inside the function, in the function definition, or in the global scope.\n",
    "* This is a gotcha! It is possible for there to be a global variable and a local variable with the same name. Then, what do you think python should do?\n",
    "\n"
   ]
  },
  {
   "cell_type": "markdown",
   "id": "096b1664",
   "metadata": {},
   "source": [
    "Let's take a look at this. In the code cell below, define three functions, `print_one`,  `print_two` and `print_three`. `print_one` and `print_two` should take a single argument, `value_to_print`; `print_one` should add (concatenate) the string 'one' to `value_to_print` and `print_two` should add the string 'two'. `print_three` should take no arguments, but simply add the string 'three' to `value_to_print`. Then, each function should print `value_to_print`."
   ]
  },
  {
   "cell_type": "code",
   "execution_count": 11,
   "id": "0baac51c",
   "metadata": {},
   "outputs": [],
   "source": [
    "# define print_one\n",
    "\n",
    "# define print_two\n",
    "\n",
    "# define print_three\n",
    "\n"
   ]
  },
  {
   "cell_type": "markdown",
   "id": "a93deb60",
   "metadata": {},
   "source": [
    "Now, in the code cell below:\n",
    "\n",
    "1. set the variable `value_to_print` to any string value\n",
    "2. call `print_one`\n",
    "3. call `print_two`\n",
    "4. call `print_three`\n",
    "5. print `value_to_print`\n",
    "\n",
    "What do you observe?"
   ]
  },
  {
   "cell_type": "code",
   "execution_count": 12,
   "id": "cd0f0c78",
   "metadata": {},
   "outputs": [
    {
     "name": "stdout",
     "output_type": "stream",
     "text": [
      "my_value\n",
      "amanda\n"
     ]
    }
   ],
   "source": [
    "# set value_to_print to any string\n",
    "\n",
    "# call print_one passing in value_to_print\n",
    "\n",
    "# call print_two passing in value_to_print\n",
    "\n",
    "# call print_three\n",
    "\n",
    "# print value_to_print\n"
   ]
  },
  {
   "cell_type": "markdown",
   "id": "e79b5d76",
   "metadata": {},
   "source": [
    "Notice that even though `value_to_print` is defined in multiple locations:\n",
    "\n",
    "* outside any function definition, in the global scope\n",
    "* inside the function specification of `print_one`\n",
    "* inside the function specification of `print_two`\n",
    "\n",
    "its value only changes *inside* a function. \n",
    "\n",
    "* `print_one` and `print_two` each use the value for their parameter `value_to_print` that is passed into them as an argument, in their local scope.\n",
    "* `print_three` accesses the global definition of `value_to_print` from the global scope.\n",
    "* in all three cases, once the local scope is *closed* (the function has finished executing) everything done to `value_to_print` is gone.\n"
   ]
  },
  {
   "cell_type": "markdown",
   "id": "6b7c4c37",
   "metadata": {},
   "source": [
    "It is good coding practice to limit your use of global variables, defining most variables in a local scope to avoid any duplicate variable definitions.\n",
    "\n"
   ]
  }
 ],
 "metadata": {
  "kernelspec": {
   "display_name": "Python 3 (ipykernel)",
   "language": "python",
   "name": "python3"
  },
  "language_info": {
   "codemirror_mode": {
    "name": "ipython",
    "version": 3
   },
   "file_extension": ".py",
   "mimetype": "text/x-python",
   "name": "python",
   "nbconvert_exporter": "python",
   "pygments_lexer": "ipython3",
   "version": "3.10.8"
  }
 },
 "nbformat": 4,
 "nbformat_minor": 5
}
